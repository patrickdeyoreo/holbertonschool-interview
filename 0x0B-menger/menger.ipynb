{
 "cells": [
  {
   "cell_type": "code",
   "execution_count": null,
   "metadata": {},
   "outputs": [],
   "source": [
    "def remove_middle_third(s: str, n: int) -> None:\n",
    "    \"\"\"\n",
    "    Remove the middle third of a string s of length n.\n",
    "    Arguments:\n",
    "        \"\"\""
   ]
  },
  {
   "cell_type": "code",
   "execution_count": null,
   "metadata": {},
   "outputs": [],
   "source": [
    "def cantor(level: int) -> str:\n",
    "    \"\"\"\n",
    "    Generate a cantor set.\n",
    "    Arguments:\n",
    "        level: the number of iterations to perform\n",
    "    Return:\n",
    "        a cantor set\n",
    "    \"\"\"\n",
    "    dim = 3 ** level\n",
    "    cantor = ' ' * dim\n",
    "    for "
   ]
  },
  {
   "cell_type": "code",
   "execution_count": 23,
   "metadata": {},
   "outputs": [],
   "source": [
    "def menger(level: int) -> str:\n",
    "    \"\"\"\n",
    "    Generate a menger sponge.\n",
    "    Arguments:\n",
    "        level: the number of iterations to perform\n",
    "    Return:\n",
    "        a menger sponge\n",
    "    \"\"\"\n",
    "    dim = 3 ** level\n",
    "    cantor = \n",
    "    lines = ['#' * dim for _ in range(dim)]\n",
    "    return '\\n'.join(lines)"
   ]
  },
  {
   "cell_type": "code",
   "execution_count": 22,
   "metadata": {},
   "outputs": [
    {
     "name": "stdout",
     "output_type": "stream",
     "text": [
      "#########\n",
      "#########\n",
      "#########\n",
      "#########\n",
      "#########\n",
      "#########\n",
      "#########\n",
      "#########\n",
      "#########\n"
     ]
    }
   ],
   "source": [
    "print(menger(2))"
   ]
  },
  {
   "cell_type": "code",
   "execution_count": null,
   "metadata": {},
   "outputs": [],
   "source": []
  }
 ],
 "metadata": {
  "kernelspec": {
   "display_name": "Python 3",
   "language": "python",
   "name": "python3"
  },
  "language_info": {
   "codemirror_mode": {
    "name": "ipython",
    "version": 3
   },
   "file_extension": ".py",
   "mimetype": "text/x-python",
   "name": "python",
   "nbconvert_exporter": "python",
   "pygments_lexer": "ipython3",
   "version": "3.6.9"
  }
 },
 "nbformat": 4,
 "nbformat_minor": 4
}
